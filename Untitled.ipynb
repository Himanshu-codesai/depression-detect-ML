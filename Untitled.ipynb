{
 "cells": [
  {
   "cell_type": "code",
   "execution_count": 1,
   "id": "8e282577",
   "metadata": {},
   "outputs": [],
   "source": [
    "import pandas as pd\n",
    "import numpy as np\n",
    "import matplotlib.pyplot as plt\n",
    "\n",
    "from sklearn.model_selection import train_test_split\n",
    "from sklearn.linear_model import LogisticRegression\n",
    "from sklearn import preprocessing\n",
    "from sklearn.metrics import accuracy_score,confusion_matrix,classification_report\n",
    "\n",
    "from sklearn.naive_bayes import GaussianNB  \n",
    "\n",
    "from sklearn.neighbors import KNeighborsClassifier \n",
    "\n",
    "from sklearn.tree import DecisionTreeClassifier\n",
    "\n",
    "from sklearn.ensemble import RandomForestClassifier\n",
    "\n",
    "import pickle"
   ]
  },
  {
   "cell_type": "code",
   "execution_count": 2,
   "id": "1584db37",
   "metadata": {},
   "outputs": [],
   "source": [
    "# df = pd.read_csv('finall.csv')\n",
    "df = pd.read_csv('Depression_dataset.csv')"
   ]
  },
  {
   "cell_type": "code",
   "execution_count": 3,
   "id": "eb7b36b7",
   "metadata": {},
   "outputs": [
    {
     "data": {
      "text/plain": [
       "(1050, 13)"
      ]
     },
     "execution_count": 3,
     "metadata": {},
     "output_type": "execute_result"
    }
   ],
   "source": [
    "df.shape"
   ]
  },
  {
   "cell_type": "code",
   "execution_count": 4,
   "id": "21241884",
   "metadata": {},
   "outputs": [],
   "source": [
    "df.drop_duplicates(inplace=True)"
   ]
  },
  {
   "cell_type": "code",
   "execution_count": 5,
   "id": "b12bcd17",
   "metadata": {},
   "outputs": [
    {
     "data": {
      "text/html": [
       "<div>\n",
       "<style scoped>\n",
       "    .dataframe tbody tr th:only-of-type {\n",
       "        vertical-align: middle;\n",
       "    }\n",
       "\n",
       "    .dataframe tbody tr th {\n",
       "        vertical-align: top;\n",
       "    }\n",
       "\n",
       "    .dataframe thead th {\n",
       "        text-align: right;\n",
       "    }\n",
       "</style>\n",
       "<table border=\"1\" class=\"dataframe\">\n",
       "  <thead>\n",
       "    <tr style=\"text-align: right;\">\n",
       "      <th></th>\n",
       "      <th>Is there anyone in your life who can support you and be there for you?</th>\n",
       "      <th>How were you feeling lately?</th>\n",
       "      <th>Have you been sleeping well?</th>\n",
       "      <th>Have you been worried or anxious lately?</th>\n",
       "      <th>Are you enjoying your daily activities and hobbies?</th>\n",
       "      <th>Have you been feeling like you have a good support system in place?</th>\n",
       "      <th>Are you having any thoughts of self-harm or suicide?</th>\n",
       "      <th>How do you usually handle stress and negative emotions?</th>\n",
       "      <th>Have you talked to anyone about how you are feeling?</th>\n",
       "      <th>With whom do you share your feelings?</th>\n",
       "      <th>positive</th>\n",
       "      <th>negative</th>\n",
       "      <th>result</th>\n",
       "    </tr>\n",
       "  </thead>\n",
       "  <tbody>\n",
       "    <tr>\n",
       "      <th>0</th>\n",
       "      <td>1</td>\n",
       "      <td>3</td>\n",
       "      <td>0</td>\n",
       "      <td>0</td>\n",
       "      <td>0</td>\n",
       "      <td>0</td>\n",
       "      <td>1</td>\n",
       "      <td>1</td>\n",
       "      <td>0</td>\n",
       "      <td>1</td>\n",
       "      <td>4</td>\n",
       "      <td>6</td>\n",
       "      <td>Minor Depression</td>\n",
       "    </tr>\n",
       "    <tr>\n",
       "      <th>1</th>\n",
       "      <td>1</td>\n",
       "      <td>1</td>\n",
       "      <td>1</td>\n",
       "      <td>1</td>\n",
       "      <td>1</td>\n",
       "      <td>1</td>\n",
       "      <td>1</td>\n",
       "      <td>2</td>\n",
       "      <td>1</td>\n",
       "      <td>1</td>\n",
       "      <td>9</td>\n",
       "      <td>1</td>\n",
       "      <td>No Depression</td>\n",
       "    </tr>\n",
       "    <tr>\n",
       "      <th>2</th>\n",
       "      <td>1</td>\n",
       "      <td>4</td>\n",
       "      <td>0</td>\n",
       "      <td>0</td>\n",
       "      <td>1</td>\n",
       "      <td>1</td>\n",
       "      <td>1</td>\n",
       "      <td>4</td>\n",
       "      <td>0</td>\n",
       "      <td>2</td>\n",
       "      <td>5</td>\n",
       "      <td>5</td>\n",
       "      <td>Minor Depression</td>\n",
       "    </tr>\n",
       "    <tr>\n",
       "      <th>3</th>\n",
       "      <td>0</td>\n",
       "      <td>3</td>\n",
       "      <td>1</td>\n",
       "      <td>0</td>\n",
       "      <td>0</td>\n",
       "      <td>0</td>\n",
       "      <td>1</td>\n",
       "      <td>2</td>\n",
       "      <td>0</td>\n",
       "      <td>3</td>\n",
       "      <td>4</td>\n",
       "      <td>6</td>\n",
       "      <td>Minor Depression</td>\n",
       "    </tr>\n",
       "    <tr>\n",
       "      <th>4</th>\n",
       "      <td>0</td>\n",
       "      <td>3</td>\n",
       "      <td>0</td>\n",
       "      <td>0</td>\n",
       "      <td>0</td>\n",
       "      <td>1</td>\n",
       "      <td>0</td>\n",
       "      <td>2</td>\n",
       "      <td>0</td>\n",
       "      <td>2</td>\n",
       "      <td>5</td>\n",
       "      <td>5</td>\n",
       "      <td>Minor Depression</td>\n",
       "    </tr>\n",
       "  </tbody>\n",
       "</table>\n",
       "</div>"
      ],
      "text/plain": [
       "   Is there anyone in your life who can support you and be there for you?  \\\n",
       "0                                                  1                        \n",
       "1                                                  1                        \n",
       "2                                                  1                        \n",
       "3                                                  0                        \n",
       "4                                                  0                        \n",
       "\n",
       "   How were you feeling lately?  Have you been sleeping well?  \\\n",
       "0                             3                             0   \n",
       "1                             1                             1   \n",
       "2                             4                             0   \n",
       "3                             3                             1   \n",
       "4                             3                             0   \n",
       "\n",
       "   Have you been worried or anxious lately?  \\\n",
       "0                                         0   \n",
       "1                                         1   \n",
       "2                                         0   \n",
       "3                                         0   \n",
       "4                                         0   \n",
       "\n",
       "   Are you enjoying your daily activities and hobbies?  \\\n",
       "0                                                  0     \n",
       "1                                                  1     \n",
       "2                                                  1     \n",
       "3                                                  0     \n",
       "4                                                  0     \n",
       "\n",
       "   Have you been feeling like you have a good support system in place?  \\\n",
       "0                                                  0                     \n",
       "1                                                  1                     \n",
       "2                                                  1                     \n",
       "3                                                  0                     \n",
       "4                                                  1                     \n",
       "\n",
       "   Are you having any thoughts of self-harm or suicide?  \\\n",
       "0                                                  1      \n",
       "1                                                  1      \n",
       "2                                                  1      \n",
       "3                                                  1      \n",
       "4                                                  0      \n",
       "\n",
       "   How do you usually handle stress and negative emotions?  \\\n",
       "0                                                  1         \n",
       "1                                                  2         \n",
       "2                                                  4         \n",
       "3                                                  2         \n",
       "4                                                  2         \n",
       "\n",
       "   Have you talked to anyone about how you are feeling?  \\\n",
       "0                                                  0      \n",
       "1                                                  1      \n",
       "2                                                  0      \n",
       "3                                                  0      \n",
       "4                                                  0      \n",
       "\n",
       "   With whom do you share your feelings?  positive  negative            result  \n",
       "0                                      1         4         6  Minor Depression  \n",
       "1                                      1         9         1     No Depression  \n",
       "2                                      2         5         5  Minor Depression  \n",
       "3                                      3         4         6  Minor Depression  \n",
       "4                                      2         5         5  Minor Depression  "
      ]
     },
     "execution_count": 5,
     "metadata": {},
     "output_type": "execute_result"
    }
   ],
   "source": [
    "df.head()"
   ]
  },
  {
   "cell_type": "code",
   "execution_count": 6,
   "id": "c58d8516",
   "metadata": {},
   "outputs": [
    {
     "data": {
      "text/plain": [
       "(960, 13)"
      ]
     },
     "execution_count": 6,
     "metadata": {},
     "output_type": "execute_result"
    }
   ],
   "source": [
    "df.shape"
   ]
  },
  {
   "cell_type": "code",
   "execution_count": 7,
   "id": "e38593d0",
   "metadata": {},
   "outputs": [
    {
     "data": {
      "text/plain": [
       "No Depression       618\n",
       "Minor Depression    312\n",
       "Major Depression     30\n",
       "Name: result, dtype: int64"
      ]
     },
     "execution_count": 7,
     "metadata": {},
     "output_type": "execute_result"
    }
   ],
   "source": [
    "df['result'].value_counts()"
   ]
  },
  {
   "cell_type": "code",
   "execution_count": 8,
   "id": "03f25625",
   "metadata": {},
   "outputs": [
    {
     "data": {
      "text/plain": [
       "array([1, 2, 0])"
      ]
     },
     "execution_count": 8,
     "metadata": {},
     "output_type": "execute_result"
    }
   ],
   "source": [
    "label_encoder = preprocessing.LabelEncoder()\n",
    "\n",
    "df['result']= label_encoder.fit_transform(df['result'])\n",
    "\n",
    "df['result'].unique()"
   ]
  },
  {
   "cell_type": "code",
   "execution_count": 9,
   "id": "8f025fd0",
   "metadata": {},
   "outputs": [
    {
     "data": {
      "text/plain": [
       "2    618\n",
       "1    312\n",
       "0     30\n",
       "Name: result, dtype: int64"
      ]
     },
     "execution_count": 9,
     "metadata": {},
     "output_type": "execute_result"
    }
   ],
   "source": [
    "df['result'].value_counts()"
   ]
  },
  {
   "cell_type": "code",
   "execution_count": 10,
   "id": "0e2a2da4",
   "metadata": {},
   "outputs": [],
   "source": [
    "X = df.drop(columns=['With whom do you share your feelings?','positive','negative','How do you usually handle stress and negative emotions?','result',])"
   ]
  },
  {
   "cell_type": "code",
   "execution_count": 11,
   "id": "d2aa1abb",
   "metadata": {},
   "outputs": [],
   "source": [
    "y = df['result']"
   ]
  },
  {
   "cell_type": "code",
   "execution_count": 12,
   "id": "d8e06f72",
   "metadata": {},
   "outputs": [],
   "source": [
    "X_train, X_test, y_train, y_test = train_test_split(X, y, test_size=0.33, random_state=42)"
   ]
  },
  {
   "cell_type": "code",
   "execution_count": 13,
   "id": "f2c45914",
   "metadata": {},
   "outputs": [
    {
     "data": {
      "text/plain": [
       "0.9747634069400631"
      ]
     },
     "execution_count": 13,
     "metadata": {},
     "output_type": "execute_result"
    }
   ],
   "source": [
    "logisticmodel = LogisticRegression()\n",
    "logisticmodel.fit(X_train,y_train)\n",
    "pred = logisticmodel.predict(X_test)\n",
    "accuracy_score(y_test,pred)"
   ]
  },
  {
   "cell_type": "code",
   "execution_count": 14,
   "id": "f1d57f36",
   "metadata": {},
   "outputs": [
    {
     "data": {
      "text/plain": [
       "0.9337539432176656"
      ]
     },
     "execution_count": 14,
     "metadata": {},
     "output_type": "execute_result"
    }
   ],
   "source": [
    "decisionmodel = DecisionTreeClassifier()\n",
    "decisionmodel.fit(X_train,y_train)\n",
    "pred = decisionmodel.predict(X_test)\n",
    "accuracy_score(y_test,pred)"
   ]
  },
  {
   "cell_type": "code",
   "execution_count": 16,
   "id": "4ab2e1ec",
   "metadata": {},
   "outputs": [],
   "source": [
    "Pkl_Filename = \"finalmodel.pkl\"  \n",
    "\n",
    "with open(Pkl_Filename, 'wb') as file:  \n",
    "    pickle.dump(logisticmodel, file)\n"
   ]
  },
  {
   "cell_type": "code",
   "execution_count": 17,
   "id": "15433b02",
   "metadata": {},
   "outputs": [
    {
     "data": {
      "text/plain": [
       "LogisticRegression()"
      ]
     },
     "execution_count": 17,
     "metadata": {},
     "output_type": "execute_result"
    }
   ],
   "source": [
    "# Load the Model back from file\n",
    "with open(Pkl_Filename, 'rb') as file:  \n",
    "    Pickled_LR_Model = pickle.load(file)\n",
    "\n",
    "Pickled_LR_Model"
   ]
  },
  {
   "cell_type": "code",
   "execution_count": null,
   "id": "a034a4e1",
   "metadata": {},
   "outputs": [],
   "source": [
    "# 0 - 3 Positive = Major Depression\n",
    "# 4 -5 Psotive = Minor Depression\n",
    "# Siddesh Jaiswal13:45\n",
    "# 6 -7 -8 Positve = No Depression"
   ]
  },
  {
   "cell_type": "code",
   "execution_count": null,
   "id": "48b8eea1",
   "metadata": {},
   "outputs": [],
   "source": []
  },
  {
   "cell_type": "code",
   "execution_count": null,
   "id": "464f3959",
   "metadata": {},
   "outputs": [],
   "source": []
  },
  {
   "cell_type": "code",
   "execution_count": null,
   "id": "f23a5b0b",
   "metadata": {},
   "outputs": [],
   "source": []
  }
 ],
 "metadata": {
  "kernelspec": {
   "display_name": "Python 3 (ipykernel)",
   "language": "python",
   "name": "python3"
  },
  "language_info": {
   "codemirror_mode": {
    "name": "ipython",
    "version": 3
   },
   "file_extension": ".py",
   "mimetype": "text/x-python",
   "name": "python",
   "nbconvert_exporter": "python",
   "pygments_lexer": "ipython3",
   "version": "3.9.12"
  }
 },
 "nbformat": 4,
 "nbformat_minor": 5
}
