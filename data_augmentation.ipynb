{
 "cells": [
  {
   "cell_type": "code",
   "execution_count": 1,
   "id": "cd866279",
   "metadata": {},
   "outputs": [],
   "source": [
    "import pandas as pd\n",
    "import numpy as np"
   ]
  },
  {
   "cell_type": "code",
   "execution_count": 2,
   "id": "1fff0ff2",
   "metadata": {},
   "outputs": [],
   "source": [
    "df = pd.read_excel('depression dataset modified.csv.xlsx')"
   ]
  },
  {
   "cell_type": "code",
   "execution_count": 3,
   "id": "7bc226f0",
   "metadata": {},
   "outputs": [
    {
     "data": {
      "text/plain": [
       "(50, 13)"
      ]
     },
     "execution_count": 3,
     "metadata": {},
     "output_type": "execute_result"
    }
   ],
   "source": [
    "df.shape"
   ]
  },
  {
   "cell_type": "code",
   "execution_count": 4,
   "id": "8cf3c0b4",
   "metadata": {},
   "outputs": [
    {
     "data": {
      "text/plain": [
       "50"
      ]
     },
     "execution_count": 4,
     "metadata": {},
     "output_type": "execute_result"
    }
   ],
   "source": [
    "len(df)"
   ]
  },
  {
   "cell_type": "code",
   "execution_count": 5,
   "id": "814974fc",
   "metadata": {},
   "outputs": [
    {
     "data": {
      "text/html": [
       "<div>\n",
       "<style scoped>\n",
       "    .dataframe tbody tr th:only-of-type {\n",
       "        vertical-align: middle;\n",
       "    }\n",
       "\n",
       "    .dataframe tbody tr th {\n",
       "        vertical-align: top;\n",
       "    }\n",
       "\n",
       "    .dataframe thead th {\n",
       "        text-align: right;\n",
       "    }\n",
       "</style>\n",
       "<table border=\"1\" class=\"dataframe\">\n",
       "  <thead>\n",
       "    <tr style=\"text-align: right;\">\n",
       "      <th></th>\n",
       "      <th>Is there anyone in your life who can support you and be there for you?</th>\n",
       "      <th>How were you feeling lately?</th>\n",
       "      <th>Have you been sleeping well?</th>\n",
       "      <th>Have you been worried or anxious lately?</th>\n",
       "      <th>Are you enjoying your daily activities and hobbies?</th>\n",
       "      <th>Have you been feeling like you have a good support system in place?</th>\n",
       "      <th>Are you having any thoughts of self-harm or suicide?</th>\n",
       "      <th>How do you usually handle stress and negative emotions?</th>\n",
       "      <th>Have you talked to anyone about how you are feeling?</th>\n",
       "      <th>With whom do you share your feelings?</th>\n",
       "      <th>Positive</th>\n",
       "      <th>Negative</th>\n",
       "      <th>Result</th>\n",
       "    </tr>\n",
       "  </thead>\n",
       "  <tbody>\n",
       "    <tr>\n",
       "      <th>0</th>\n",
       "      <td>1</td>\n",
       "      <td>3</td>\n",
       "      <td>0</td>\n",
       "      <td>0</td>\n",
       "      <td>0</td>\n",
       "      <td>0</td>\n",
       "      <td>1</td>\n",
       "      <td>1</td>\n",
       "      <td>0</td>\n",
       "      <td>1</td>\n",
       "      <td>2</td>\n",
       "      <td>6</td>\n",
       "      <td>Major Depression</td>\n",
       "    </tr>\n",
       "    <tr>\n",
       "      <th>1</th>\n",
       "      <td>1</td>\n",
       "      <td>1</td>\n",
       "      <td>1</td>\n",
       "      <td>1</td>\n",
       "      <td>1</td>\n",
       "      <td>1</td>\n",
       "      <td>1</td>\n",
       "      <td>2</td>\n",
       "      <td>1</td>\n",
       "      <td>1</td>\n",
       "      <td>8</td>\n",
       "      <td>0</td>\n",
       "      <td>No Depression</td>\n",
       "    </tr>\n",
       "    <tr>\n",
       "      <th>2</th>\n",
       "      <td>1</td>\n",
       "      <td>4</td>\n",
       "      <td>0</td>\n",
       "      <td>0</td>\n",
       "      <td>1</td>\n",
       "      <td>1</td>\n",
       "      <td>1</td>\n",
       "      <td>4</td>\n",
       "      <td>0</td>\n",
       "      <td>2</td>\n",
       "      <td>4</td>\n",
       "      <td>4</td>\n",
       "      <td>Minor Depression</td>\n",
       "    </tr>\n",
       "    <tr>\n",
       "      <th>3</th>\n",
       "      <td>0</td>\n",
       "      <td>3</td>\n",
       "      <td>1</td>\n",
       "      <td>0</td>\n",
       "      <td>0</td>\n",
       "      <td>0</td>\n",
       "      <td>1</td>\n",
       "      <td>2</td>\n",
       "      <td>0</td>\n",
       "      <td>3</td>\n",
       "      <td>2</td>\n",
       "      <td>6</td>\n",
       "      <td>Major Depression</td>\n",
       "    </tr>\n",
       "    <tr>\n",
       "      <th>4</th>\n",
       "      <td>0</td>\n",
       "      <td>3</td>\n",
       "      <td>0</td>\n",
       "      <td>0</td>\n",
       "      <td>0</td>\n",
       "      <td>1</td>\n",
       "      <td>0</td>\n",
       "      <td>2</td>\n",
       "      <td>0</td>\n",
       "      <td>2</td>\n",
       "      <td>1</td>\n",
       "      <td>7</td>\n",
       "      <td>Major Depression</td>\n",
       "    </tr>\n",
       "  </tbody>\n",
       "</table>\n",
       "</div>"
      ],
      "text/plain": [
       "   Is there anyone in your life who can support you and be there for you?  \\\n",
       "0                                                  1                        \n",
       "1                                                  1                        \n",
       "2                                                  1                        \n",
       "3                                                  0                        \n",
       "4                                                  0                        \n",
       "\n",
       "   How were you feeling lately?  Have you been sleeping well?  \\\n",
       "0                             3                             0   \n",
       "1                             1                             1   \n",
       "2                             4                             0   \n",
       "3                             3                             1   \n",
       "4                             3                             0   \n",
       "\n",
       "   Have you been worried or anxious lately?  \\\n",
       "0                                         0   \n",
       "1                                         1   \n",
       "2                                         0   \n",
       "3                                         0   \n",
       "4                                         0   \n",
       "\n",
       "   Are you enjoying your daily activities and hobbies?  \\\n",
       "0                                                  0     \n",
       "1                                                  1     \n",
       "2                                                  1     \n",
       "3                                                  0     \n",
       "4                                                  0     \n",
       "\n",
       "   Have you been feeling like you have a good support system in place?  \\\n",
       "0                                                  0                     \n",
       "1                                                  1                     \n",
       "2                                                  1                     \n",
       "3                                                  0                     \n",
       "4                                                  1                     \n",
       "\n",
       "   Are you having any thoughts of self-harm or suicide?  \\\n",
       "0                                                  1      \n",
       "1                                                  1      \n",
       "2                                                  1      \n",
       "3                                                  1      \n",
       "4                                                  0      \n",
       "\n",
       "   How do you usually handle stress and negative emotions?  \\\n",
       "0                                                  1         \n",
       "1                                                  2         \n",
       "2                                                  4         \n",
       "3                                                  2         \n",
       "4                                                  2         \n",
       "\n",
       "   Have you talked to anyone about how you are feeling?  \\\n",
       "0                                                  0      \n",
       "1                                                  1      \n",
       "2                                                  0      \n",
       "3                                                  0      \n",
       "4                                                  0      \n",
       "\n",
       "   With whom do you share your feelings?  Positive  Negative            Result  \n",
       "0                                      1         2         6  Major Depression  \n",
       "1                                      1         8         0     No Depression  \n",
       "2                                      2         4         4  Minor Depression  \n",
       "3                                      3         2         6  Major Depression  \n",
       "4                                      2         1         7  Major Depression  "
      ]
     },
     "execution_count": 5,
     "metadata": {},
     "output_type": "execute_result"
    }
   ],
   "source": [
    "df.head()"
   ]
  },
  {
   "cell_type": "code",
   "execution_count": 6,
   "id": "ff60e800",
   "metadata": {},
   "outputs": [
    {
     "data": {
      "text/plain": [
       "5    17\n",
       "3    11\n",
       "4     8\n",
       "1     7\n",
       "2     7\n",
       "Name: How were you feeling lately?, dtype: int64"
      ]
     },
     "execution_count": 6,
     "metadata": {},
     "output_type": "execute_result"
    }
   ],
   "source": [
    "df['How were you feeling lately?'].value_counts()"
   ]
  },
  {
   "cell_type": "code",
   "execution_count": 7,
   "id": "0906dce7",
   "metadata": {},
   "outputs": [],
   "source": [
    "positive = df['Positive']"
   ]
  },
  {
   "cell_type": "code",
   "execution_count": 8,
   "id": "94a453ec",
   "metadata": {},
   "outputs": [],
   "source": [
    "pos = np.std(positive)"
   ]
  },
  {
   "cell_type": "code",
   "execution_count": 9,
   "id": "fbfa3a67",
   "metadata": {},
   "outputs": [
    {
     "data": {
      "text/html": [
       "<div>\n",
       "<style scoped>\n",
       "    .dataframe tbody tr th:only-of-type {\n",
       "        vertical-align: middle;\n",
       "    }\n",
       "\n",
       "    .dataframe tbody tr th {\n",
       "        vertical-align: top;\n",
       "    }\n",
       "\n",
       "    .dataframe thead th {\n",
       "        text-align: right;\n",
       "    }\n",
       "</style>\n",
       "<table border=\"1\" class=\"dataframe\">\n",
       "  <thead>\n",
       "    <tr style=\"text-align: right;\">\n",
       "      <th></th>\n",
       "      <th>Is there anyone in your life who can support you and be there for you?</th>\n",
       "      <th>How were you feeling lately?</th>\n",
       "      <th>Have you been sleeping well?</th>\n",
       "      <th>Have you been worried or anxious lately?</th>\n",
       "      <th>Are you enjoying your daily activities and hobbies?</th>\n",
       "      <th>Have you been feeling like you have a good support system in place?</th>\n",
       "      <th>Are you having any thoughts of self-harm or suicide?</th>\n",
       "      <th>How do you usually handle stress and negative emotions?</th>\n",
       "      <th>Have you talked to anyone about how you are feeling?</th>\n",
       "      <th>With whom do you share your feelings?</th>\n",
       "      <th>Positive</th>\n",
       "      <th>Negative</th>\n",
       "    </tr>\n",
       "  </thead>\n",
       "  <tbody>\n",
       "    <tr>\n",
       "      <th>count</th>\n",
       "      <td>50.000000</td>\n",
       "      <td>50.000000</td>\n",
       "      <td>50.000000</td>\n",
       "      <td>50.000000</td>\n",
       "      <td>50.000000</td>\n",
       "      <td>50.000000</td>\n",
       "      <td>50.000000</td>\n",
       "      <td>50.000000</td>\n",
       "      <td>50.000000</td>\n",
       "      <td>50.000000</td>\n",
       "      <td>50.000000</td>\n",
       "      <td>50.000000</td>\n",
       "    </tr>\n",
       "    <tr>\n",
       "      <th>mean</th>\n",
       "      <td>0.800000</td>\n",
       "      <td>3.420000</td>\n",
       "      <td>0.560000</td>\n",
       "      <td>0.260000</td>\n",
       "      <td>0.380000</td>\n",
       "      <td>0.540000</td>\n",
       "      <td>0.800000</td>\n",
       "      <td>2.780000</td>\n",
       "      <td>0.420000</td>\n",
       "      <td>2.100000</td>\n",
       "      <td>4.040000</td>\n",
       "      <td>3.980000</td>\n",
       "    </tr>\n",
       "    <tr>\n",
       "      <th>std</th>\n",
       "      <td>0.404061</td>\n",
       "      <td>1.444059</td>\n",
       "      <td>0.501427</td>\n",
       "      <td>0.443087</td>\n",
       "      <td>0.490314</td>\n",
       "      <td>0.503457</td>\n",
       "      <td>0.404061</td>\n",
       "      <td>1.359622</td>\n",
       "      <td>0.498569</td>\n",
       "      <td>0.762648</td>\n",
       "      <td>2.079639</td>\n",
       "      <td>2.075022</td>\n",
       "    </tr>\n",
       "    <tr>\n",
       "      <th>min</th>\n",
       "      <td>0.000000</td>\n",
       "      <td>1.000000</td>\n",
       "      <td>0.000000</td>\n",
       "      <td>0.000000</td>\n",
       "      <td>0.000000</td>\n",
       "      <td>0.000000</td>\n",
       "      <td>0.000000</td>\n",
       "      <td>1.000000</td>\n",
       "      <td>0.000000</td>\n",
       "      <td>1.000000</td>\n",
       "      <td>0.000000</td>\n",
       "      <td>0.000000</td>\n",
       "    </tr>\n",
       "    <tr>\n",
       "      <th>25%</th>\n",
       "      <td>1.000000</td>\n",
       "      <td>2.000000</td>\n",
       "      <td>0.000000</td>\n",
       "      <td>0.000000</td>\n",
       "      <td>0.000000</td>\n",
       "      <td>0.000000</td>\n",
       "      <td>1.000000</td>\n",
       "      <td>2.000000</td>\n",
       "      <td>0.000000</td>\n",
       "      <td>2.000000</td>\n",
       "      <td>2.000000</td>\n",
       "      <td>2.250000</td>\n",
       "    </tr>\n",
       "    <tr>\n",
       "      <th>50%</th>\n",
       "      <td>1.000000</td>\n",
       "      <td>3.500000</td>\n",
       "      <td>1.000000</td>\n",
       "      <td>0.000000</td>\n",
       "      <td>0.000000</td>\n",
       "      <td>1.000000</td>\n",
       "      <td>1.000000</td>\n",
       "      <td>3.000000</td>\n",
       "      <td>0.000000</td>\n",
       "      <td>2.000000</td>\n",
       "      <td>4.000000</td>\n",
       "      <td>4.000000</td>\n",
       "    </tr>\n",
       "    <tr>\n",
       "      <th>75%</th>\n",
       "      <td>1.000000</td>\n",
       "      <td>5.000000</td>\n",
       "      <td>1.000000</td>\n",
       "      <td>0.750000</td>\n",
       "      <td>1.000000</td>\n",
       "      <td>1.000000</td>\n",
       "      <td>1.000000</td>\n",
       "      <td>4.000000</td>\n",
       "      <td>1.000000</td>\n",
       "      <td>3.000000</td>\n",
       "      <td>5.750000</td>\n",
       "      <td>6.000000</td>\n",
       "    </tr>\n",
       "    <tr>\n",
       "      <th>max</th>\n",
       "      <td>1.000000</td>\n",
       "      <td>5.000000</td>\n",
       "      <td>1.000000</td>\n",
       "      <td>1.000000</td>\n",
       "      <td>1.000000</td>\n",
       "      <td>1.000000</td>\n",
       "      <td>1.000000</td>\n",
       "      <td>5.000000</td>\n",
       "      <td>1.000000</td>\n",
       "      <td>3.000000</td>\n",
       "      <td>8.000000</td>\n",
       "      <td>8.000000</td>\n",
       "    </tr>\n",
       "  </tbody>\n",
       "</table>\n",
       "</div>"
      ],
      "text/plain": [
       "       Is there anyone in your life who can support you and be there for you?  \\\n",
       "count                                          50.000000                        \n",
       "mean                                            0.800000                        \n",
       "std                                             0.404061                        \n",
       "min                                             0.000000                        \n",
       "25%                                             1.000000                        \n",
       "50%                                             1.000000                        \n",
       "75%                                             1.000000                        \n",
       "max                                             1.000000                        \n",
       "\n",
       "       How were you feeling lately?  Have you been sleeping well?  \\\n",
       "count                     50.000000                     50.000000   \n",
       "mean                       3.420000                      0.560000   \n",
       "std                        1.444059                      0.501427   \n",
       "min                        1.000000                      0.000000   \n",
       "25%                        2.000000                      0.000000   \n",
       "50%                        3.500000                      1.000000   \n",
       "75%                        5.000000                      1.000000   \n",
       "max                        5.000000                      1.000000   \n",
       "\n",
       "       Have you been worried or anxious lately?  \\\n",
       "count                                 50.000000   \n",
       "mean                                   0.260000   \n",
       "std                                    0.443087   \n",
       "min                                    0.000000   \n",
       "25%                                    0.000000   \n",
       "50%                                    0.000000   \n",
       "75%                                    0.750000   \n",
       "max                                    1.000000   \n",
       "\n",
       "       Are you enjoying your daily activities and hobbies?  \\\n",
       "count                                          50.000000     \n",
       "mean                                            0.380000     \n",
       "std                                             0.490314     \n",
       "min                                             0.000000     \n",
       "25%                                             0.000000     \n",
       "50%                                             0.000000     \n",
       "75%                                             1.000000     \n",
       "max                                             1.000000     \n",
       "\n",
       "       Have you been feeling like you have a good support system in place?  \\\n",
       "count                                          50.000000                     \n",
       "mean                                            0.540000                     \n",
       "std                                             0.503457                     \n",
       "min                                             0.000000                     \n",
       "25%                                             0.000000                     \n",
       "50%                                             1.000000                     \n",
       "75%                                             1.000000                     \n",
       "max                                             1.000000                     \n",
       "\n",
       "       Are you having any thoughts of self-harm or suicide?  \\\n",
       "count                                          50.000000      \n",
       "mean                                            0.800000      \n",
       "std                                             0.404061      \n",
       "min                                             0.000000      \n",
       "25%                                             1.000000      \n",
       "50%                                             1.000000      \n",
       "75%                                             1.000000      \n",
       "max                                             1.000000      \n",
       "\n",
       "       How do you usually handle stress and negative emotions?  \\\n",
       "count                                          50.000000         \n",
       "mean                                            2.780000         \n",
       "std                                             1.359622         \n",
       "min                                             1.000000         \n",
       "25%                                             2.000000         \n",
       "50%                                             3.000000         \n",
       "75%                                             4.000000         \n",
       "max                                             5.000000         \n",
       "\n",
       "       Have you talked to anyone about how you are feeling?  \\\n",
       "count                                          50.000000      \n",
       "mean                                            0.420000      \n",
       "std                                             0.498569      \n",
       "min                                             0.000000      \n",
       "25%                                             0.000000      \n",
       "50%                                             0.000000      \n",
       "75%                                             1.000000      \n",
       "max                                             1.000000      \n",
       "\n",
       "       With whom do you share your feelings?   Positive   Negative  \n",
       "count                              50.000000  50.000000  50.000000  \n",
       "mean                                2.100000   4.040000   3.980000  \n",
       "std                                 0.762648   2.079639   2.075022  \n",
       "min                                 1.000000   0.000000   0.000000  \n",
       "25%                                 2.000000   2.000000   2.250000  \n",
       "50%                                 2.000000   4.000000   4.000000  \n",
       "75%                                 3.000000   5.750000   6.000000  \n",
       "max                                 3.000000   8.000000   8.000000  "
      ]
     },
     "execution_count": 9,
     "metadata": {},
     "output_type": "execute_result"
    }
   ],
   "source": [
    "df.describe()"
   ]
  },
  {
   "cell_type": "code",
   "execution_count": 25,
   "id": "83528397",
   "metadata": {},
   "outputs": [],
   "source": [
    "dataset = []\n",
    "dataset.append(df)"
   ]
  },
  {
   "cell_type": "code",
   "execution_count": 26,
   "id": "b9ee101a",
   "metadata": {},
   "outputs": [
    {
     "ename": "SyntaxError",
     "evalue": "invalid syntax (4133414783.py, line 4)",
     "output_type": "error",
     "traceback": [
      "\u001b[1;36m  Input \u001b[1;32mIn [26]\u001b[1;36m\u001b[0m\n\u001b[1;33m    'Positive' : row['Positive'] = np.random.uniform(pos)\u001b[0m\n\u001b[1;37m                                 ^\u001b[0m\n\u001b[1;31mSyntaxError\u001b[0m\u001b[1;31m:\u001b[0m invalid syntax\n"
     ]
    }
   ],
   "source": [
    "for _ in range(20):\n",
    "    for _,row in df.iterrowsr():\n",
    "        temp={\n",
    "            'Positive' : row['Positive'] = np.random.uniform(pos)\n",
    "        }\n",
    "        dataset.append(temp)\n",
    "        print(temp)\n",
    "        "
   ]
  },
  {
   "cell_type": "code",
   "execution_count": 27,
   "id": "3c0ecfd8",
   "metadata": {},
   "outputs": [],
   "source": [
    "row['Positive'] = np.random.uniform(pos)"
   ]
  },
  {
   "cell_type": "code",
   "execution_count": 19,
   "id": "0380cf5a",
   "metadata": {},
   "outputs": [
    {
     "ename": "TypeError",
     "evalue": "object of type 'int' has no len()",
     "output_type": "error",
     "traceback": [
      "\u001b[1;31m---------------------------------------------------------------------------\u001b[0m",
      "\u001b[1;31mTypeError\u001b[0m                                 Traceback (most recent call last)",
      "Input \u001b[1;32mIn [19]\u001b[0m, in \u001b[0;36m<cell line: 1>\u001b[1;34m()\u001b[0m\n\u001b[0;32m      1\u001b[0m \u001b[38;5;28;01mfor\u001b[39;00m index, row \u001b[38;5;129;01min\u001b[39;00m df\u001b[38;5;241m.\u001b[39miterrows():\n\u001b[1;32m----> 2\u001b[0m   \u001b[38;5;28mprint\u001b[39m(\u001b[38;5;28;43mlen\u001b[39;49m\u001b[43m(\u001b[49m\u001b[43mindex\u001b[49m\u001b[43m)\u001b[49m)\n",
      "\u001b[1;31mTypeError\u001b[0m: object of type 'int' has no len()"
     ]
    }
   ],
   "source": [
    "# for index, row in df.iterrows():\n",
    "#   print(len(index))"
   ]
  },
  {
   "cell_type": "code",
   "execution_count": 7,
   "id": "4a61a376",
   "metadata": {},
   "outputs": [
    {
     "ename": "NameError",
     "evalue": "name 'row' is not defined",
     "output_type": "error",
     "traceback": [
      "\u001b[1;31m---------------------------------------------------------------------------\u001b[0m",
      "\u001b[1;31mNameError\u001b[0m                                 Traceback (most recent call last)",
      "Input \u001b[1;32mIn [7]\u001b[0m, in \u001b[0;36m<cell line: 1>\u001b[1;34m()\u001b[0m\n\u001b[1;32m----> 1\u001b[0m \u001b[43mrow\u001b[49m[\u001b[38;5;124m'\u001b[39m\u001b[38;5;124mPositive\u001b[39m\u001b[38;5;124m'\u001b[39m]\n",
      "\u001b[1;31mNameError\u001b[0m: name 'row' is not defined"
     ]
    }
   ],
   "source": [
    "row['Positive']"
   ]
  },
  {
   "cell_type": "code",
   "execution_count": 108,
   "id": "30d11852",
   "metadata": {},
   "outputs": [],
   "source": [
    "question10 = np.random.uniform(1,3,1000)"
   ]
  },
  {
   "cell_type": "code",
   "execution_count": 109,
   "id": "4da10fbf",
   "metadata": {},
   "outputs": [],
   "source": [
    "question10 = question10.round()"
   ]
  },
  {
   "cell_type": "code",
   "execution_count": 110,
   "id": "ebc90529",
   "metadata": {},
   "outputs": [],
   "source": [
    "question10 = question10.tolist()"
   ]
  },
  {
   "cell_type": "code",
   "execution_count": 72,
   "id": "baf61435",
   "metadata": {},
   "outputs": [
    {
     "data": {
      "text/plain": [
       "array([0.84937223, 0.38427462, 0.82227915, 0.70601649, 0.59715874])"
      ]
     },
     "execution_count": 72,
     "metadata": {},
     "output_type": "execute_result"
    }
   ],
   "source": [
    "# np.random.uniform(0,1,5)"
   ]
  },
  {
   "cell_type": "code",
   "execution_count": 28,
   "id": "e715f64e",
   "metadata": {},
   "outputs": [
    {
     "data": {
      "text/plain": [
       "1000"
      ]
     },
     "execution_count": 28,
     "metadata": {},
     "output_type": "execute_result"
    }
   ],
   "source": [
    "len(question1)"
   ]
  },
  {
   "cell_type": "code",
   "execution_count": 29,
   "id": "b3c8fcfd",
   "metadata": {},
   "outputs": [
    {
     "data": {
      "text/plain": [
       "1050"
      ]
     },
     "execution_count": 29,
     "metadata": {},
     "output_type": "execute_result"
    }
   ],
   "source": [
    "len(q1)"
   ]
  },
  {
   "cell_type": "code",
   "execution_count": 37,
   "id": "01d5b270",
   "metadata": {},
   "outputs": [],
   "source": [
    "df['A'] = pd.Series(q1)"
   ]
  },
  {
   "cell_type": "code",
   "execution_count": 40,
   "id": "733e2374",
   "metadata": {},
   "outputs": [
    {
     "data": {
      "text/plain": [
       "(50, 14)"
      ]
     },
     "execution_count": 40,
     "metadata": {},
     "output_type": "execute_result"
    }
   ],
   "source": [
    "df.shape"
   ]
  },
  {
   "cell_type": "code",
   "execution_count": 36,
   "id": "426e29dd",
   "metadata": {},
   "outputs": [
    {
     "data": {
      "text/plain": [
       "(50, 13)"
      ]
     },
     "execution_count": 36,
     "metadata": {},
     "output_type": "execute_result"
    }
   ],
   "source": [
    "df.shape"
   ]
  },
  {
   "cell_type": "code",
   "execution_count": 35,
   "id": "0ee87c75",
   "metadata": {},
   "outputs": [
    {
     "data": {
      "text/plain": [
       "1.0    40\n",
       "0.0    10\n",
       "Name: Is there anyone in your life who can support you and be there for you?, dtype: int64"
      ]
     },
     "execution_count": 35,
     "metadata": {},
     "output_type": "execute_result"
    }
   ],
   "source": [
    "df['Is there anyone in your life who can support you and be there for you?'].value_counts()"
   ]
  },
  {
   "cell_type": "code",
   "execution_count": 51,
   "id": "b728fffc",
   "metadata": {},
   "outputs": [],
   "source": [
    "new_df = pd.DataFrame(q1,columns=['Is there anyone in your life who can support you and be there for you?'])\n",
    "# new_df"
   ]
  },
  {
   "cell_type": "code",
   "execution_count": 61,
   "id": "69fee3ae",
   "metadata": {},
   "outputs": [],
   "source": [
    "new_df['Have you been sleeping well?'] = q3\n",
    "new_df['How were you feeling lately?'] = q2\n"
   ]
  },
  {
   "cell_type": "code",
   "execution_count": 113,
   "id": "62890f51",
   "metadata": {},
   "outputs": [
    {
     "data": {
      "text/html": [
       "<div>\n",
       "<style scoped>\n",
       "    .dataframe tbody tr th:only-of-type {\n",
       "        vertical-align: middle;\n",
       "    }\n",
       "\n",
       "    .dataframe tbody tr th {\n",
       "        vertical-align: top;\n",
       "    }\n",
       "\n",
       "    .dataframe thead th {\n",
       "        text-align: right;\n",
       "    }\n",
       "</style>\n",
       "<table border=\"1\" class=\"dataframe\">\n",
       "  <thead>\n",
       "    <tr style=\"text-align: right;\">\n",
       "      <th></th>\n",
       "      <th>Is there anyone in your life who can support you and be there for you?</th>\n",
       "      <th>Have you been sleeping well?</th>\n",
       "      <th>How were you feeling lately?</th>\n",
       "      <th>Have you been worried or anxious lately?</th>\n",
       "      <th>Are you enjoying your daily activities and hobbies?</th>\n",
       "      <th>Have you been feeling like you have a good support system in place?</th>\n",
       "      <th>Are you having any thoughts of self-harm or suicide?</th>\n",
       "      <th>How do you usually handle stress and negative emotions?</th>\n",
       "      <th>Have you talked to anyone about how you are feeling?</th>\n",
       "      <th>With whom do you share your feelings?</th>\n",
       "    </tr>\n",
       "  </thead>\n",
       "  <tbody>\n",
       "    <tr>\n",
       "      <th>0</th>\n",
       "      <td>1.0</td>\n",
       "      <td>0.0</td>\n",
       "      <td>3.0</td>\n",
       "      <td>0.0</td>\n",
       "      <td>0.0</td>\n",
       "      <td>0.0</td>\n",
       "      <td>1.0</td>\n",
       "      <td>1.0</td>\n",
       "      <td>0.0</td>\n",
       "      <td>1.0</td>\n",
       "    </tr>\n",
       "    <tr>\n",
       "      <th>1</th>\n",
       "      <td>1.0</td>\n",
       "      <td>1.0</td>\n",
       "      <td>1.0</td>\n",
       "      <td>1.0</td>\n",
       "      <td>1.0</td>\n",
       "      <td>1.0</td>\n",
       "      <td>1.0</td>\n",
       "      <td>2.0</td>\n",
       "      <td>1.0</td>\n",
       "      <td>1.0</td>\n",
       "    </tr>\n",
       "    <tr>\n",
       "      <th>2</th>\n",
       "      <td>1.0</td>\n",
       "      <td>0.0</td>\n",
       "      <td>4.0</td>\n",
       "      <td>0.0</td>\n",
       "      <td>1.0</td>\n",
       "      <td>1.0</td>\n",
       "      <td>1.0</td>\n",
       "      <td>4.0</td>\n",
       "      <td>0.0</td>\n",
       "      <td>2.0</td>\n",
       "    </tr>\n",
       "    <tr>\n",
       "      <th>3</th>\n",
       "      <td>0.0</td>\n",
       "      <td>1.0</td>\n",
       "      <td>3.0</td>\n",
       "      <td>0.0</td>\n",
       "      <td>0.0</td>\n",
       "      <td>0.0</td>\n",
       "      <td>1.0</td>\n",
       "      <td>2.0</td>\n",
       "      <td>0.0</td>\n",
       "      <td>3.0</td>\n",
       "    </tr>\n",
       "    <tr>\n",
       "      <th>4</th>\n",
       "      <td>0.0</td>\n",
       "      <td>0.0</td>\n",
       "      <td>3.0</td>\n",
       "      <td>0.0</td>\n",
       "      <td>0.0</td>\n",
       "      <td>1.0</td>\n",
       "      <td>0.0</td>\n",
       "      <td>2.0</td>\n",
       "      <td>0.0</td>\n",
       "      <td>2.0</td>\n",
       "    </tr>\n",
       "    <tr>\n",
       "      <th>...</th>\n",
       "      <td>...</td>\n",
       "      <td>...</td>\n",
       "      <td>...</td>\n",
       "      <td>...</td>\n",
       "      <td>...</td>\n",
       "      <td>...</td>\n",
       "      <td>...</td>\n",
       "      <td>...</td>\n",
       "      <td>...</td>\n",
       "      <td>...</td>\n",
       "    </tr>\n",
       "    <tr>\n",
       "      <th>1045</th>\n",
       "      <td>0.0</td>\n",
       "      <td>0.0</td>\n",
       "      <td>2.0</td>\n",
       "      <td>0.0</td>\n",
       "      <td>1.0</td>\n",
       "      <td>0.0</td>\n",
       "      <td>1.0</td>\n",
       "      <td>5.0</td>\n",
       "      <td>1.0</td>\n",
       "      <td>2.0</td>\n",
       "    </tr>\n",
       "    <tr>\n",
       "      <th>1046</th>\n",
       "      <td>0.0</td>\n",
       "      <td>1.0</td>\n",
       "      <td>3.0</td>\n",
       "      <td>1.0</td>\n",
       "      <td>1.0</td>\n",
       "      <td>1.0</td>\n",
       "      <td>0.0</td>\n",
       "      <td>2.0</td>\n",
       "      <td>0.0</td>\n",
       "      <td>3.0</td>\n",
       "    </tr>\n",
       "    <tr>\n",
       "      <th>1047</th>\n",
       "      <td>1.0</td>\n",
       "      <td>1.0</td>\n",
       "      <td>2.0</td>\n",
       "      <td>0.0</td>\n",
       "      <td>0.0</td>\n",
       "      <td>0.0</td>\n",
       "      <td>0.0</td>\n",
       "      <td>1.0</td>\n",
       "      <td>0.0</td>\n",
       "      <td>2.0</td>\n",
       "    </tr>\n",
       "    <tr>\n",
       "      <th>1048</th>\n",
       "      <td>0.0</td>\n",
       "      <td>0.0</td>\n",
       "      <td>2.0</td>\n",
       "      <td>0.0</td>\n",
       "      <td>1.0</td>\n",
       "      <td>0.0</td>\n",
       "      <td>0.0</td>\n",
       "      <td>5.0</td>\n",
       "      <td>0.0</td>\n",
       "      <td>2.0</td>\n",
       "    </tr>\n",
       "    <tr>\n",
       "      <th>1049</th>\n",
       "      <td>1.0</td>\n",
       "      <td>1.0</td>\n",
       "      <td>4.0</td>\n",
       "      <td>1.0</td>\n",
       "      <td>1.0</td>\n",
       "      <td>1.0</td>\n",
       "      <td>0.0</td>\n",
       "      <td>3.0</td>\n",
       "      <td>0.0</td>\n",
       "      <td>1.0</td>\n",
       "    </tr>\n",
       "  </tbody>\n",
       "</table>\n",
       "<p>1050 rows × 10 columns</p>\n",
       "</div>"
      ],
      "text/plain": [
       "      Is there anyone in your life who can support you and be there for you?  \\\n",
       "0                                                   1.0                        \n",
       "1                                                   1.0                        \n",
       "2                                                   1.0                        \n",
       "3                                                   0.0                        \n",
       "4                                                   0.0                        \n",
       "...                                                 ...                        \n",
       "1045                                                0.0                        \n",
       "1046                                                0.0                        \n",
       "1047                                                1.0                        \n",
       "1048                                                0.0                        \n",
       "1049                                                1.0                        \n",
       "\n",
       "      Have you been sleeping well?  How were you feeling lately?  \\\n",
       "0                              0.0                           3.0   \n",
       "1                              1.0                           1.0   \n",
       "2                              0.0                           4.0   \n",
       "3                              1.0                           3.0   \n",
       "4                              0.0                           3.0   \n",
       "...                            ...                           ...   \n",
       "1045                           0.0                           2.0   \n",
       "1046                           1.0                           3.0   \n",
       "1047                           1.0                           2.0   \n",
       "1048                           0.0                           2.0   \n",
       "1049                           1.0                           4.0   \n",
       "\n",
       "      Have you been worried or anxious lately?  \\\n",
       "0                                          0.0   \n",
       "1                                          1.0   \n",
       "2                                          0.0   \n",
       "3                                          0.0   \n",
       "4                                          0.0   \n",
       "...                                        ...   \n",
       "1045                                       0.0   \n",
       "1046                                       1.0   \n",
       "1047                                       0.0   \n",
       "1048                                       0.0   \n",
       "1049                                       1.0   \n",
       "\n",
       "      Are you enjoying your daily activities and hobbies?  \\\n",
       "0                                                   0.0     \n",
       "1                                                   1.0     \n",
       "2                                                   1.0     \n",
       "3                                                   0.0     \n",
       "4                                                   0.0     \n",
       "...                                                 ...     \n",
       "1045                                                1.0     \n",
       "1046                                                1.0     \n",
       "1047                                                0.0     \n",
       "1048                                                1.0     \n",
       "1049                                                1.0     \n",
       "\n",
       "      Have you been feeling like you have a good support system in place?  \\\n",
       "0                                                   0.0                     \n",
       "1                                                   1.0                     \n",
       "2                                                   1.0                     \n",
       "3                                                   0.0                     \n",
       "4                                                   1.0                     \n",
       "...                                                 ...                     \n",
       "1045                                                0.0                     \n",
       "1046                                                1.0                     \n",
       "1047                                                0.0                     \n",
       "1048                                                0.0                     \n",
       "1049                                                1.0                     \n",
       "\n",
       "      Are you having any thoughts of self-harm or suicide?  \\\n",
       "0                                                   1.0      \n",
       "1                                                   1.0      \n",
       "2                                                   1.0      \n",
       "3                                                   1.0      \n",
       "4                                                   0.0      \n",
       "...                                                 ...      \n",
       "1045                                                1.0      \n",
       "1046                                                0.0      \n",
       "1047                                                0.0      \n",
       "1048                                                0.0      \n",
       "1049                                                0.0      \n",
       "\n",
       "      How do you usually handle stress and negative emotions?  \\\n",
       "0                                                   1.0         \n",
       "1                                                   2.0         \n",
       "2                                                   4.0         \n",
       "3                                                   2.0         \n",
       "4                                                   2.0         \n",
       "...                                                 ...         \n",
       "1045                                                5.0         \n",
       "1046                                                2.0         \n",
       "1047                                                1.0         \n",
       "1048                                                5.0         \n",
       "1049                                                3.0         \n",
       "\n",
       "      Have you talked to anyone about how you are feeling?  \\\n",
       "0                                                   0.0      \n",
       "1                                                   1.0      \n",
       "2                                                   0.0      \n",
       "3                                                   0.0      \n",
       "4                                                   0.0      \n",
       "...                                                 ...      \n",
       "1045                                                1.0      \n",
       "1046                                                0.0      \n",
       "1047                                                0.0      \n",
       "1048                                                0.0      \n",
       "1049                                                0.0      \n",
       "\n",
       "      With whom do you share your feelings?  \n",
       "0                                       1.0  \n",
       "1                                       1.0  \n",
       "2                                       2.0  \n",
       "3                                       3.0  \n",
       "4                                       2.0  \n",
       "...                                     ...  \n",
       "1045                                    2.0  \n",
       "1046                                    3.0  \n",
       "1047                                    2.0  \n",
       "1048                                    2.0  \n",
       "1049                                    1.0  \n",
       "\n",
       "[1050 rows x 10 columns]"
      ]
     },
     "execution_count": 113,
     "metadata": {},
     "output_type": "execute_result"
    }
   ],
   "source": [
    "new_df['With whom do you share your feelings?'] = q10\n",
    "new_df"
   ]
  },
  {
   "cell_type": "code",
   "execution_count": 114,
   "id": "a2a4c3c6",
   "metadata": {},
   "outputs": [],
   "source": [
    "new_df.to_csv('finall.csv')"
   ]
  },
  {
   "cell_type": "code",
   "execution_count": 111,
   "id": "ffed3e8c",
   "metadata": {},
   "outputs": [],
   "source": [
    "q10 = df['With whom do you share your feelings?'].tolist()"
   ]
  },
  {
   "cell_type": "code",
   "execution_count": null,
   "id": "d8be43a1",
   "metadata": {},
   "outputs": [],
   "source": []
  },
  {
   "cell_type": "code",
   "execution_count": 20,
   "id": "f8af87f0",
   "metadata": {},
   "outputs": [],
   "source": [
    "q1 = df['Is there anyone in your life who can support you and be there for you?'].tolist()"
   ]
  },
  {
   "cell_type": "code",
   "execution_count": 112,
   "id": "79e402d7",
   "metadata": {},
   "outputs": [],
   "source": [
    "# q1.extend(question1)\n",
    "# q2.extend(question2)\n",
    "# q3.extend(question3)\n",
    "# q4.extend(question4)\n",
    "# q5.extend(question5)\n",
    "# q7.extend(question7)\n",
    "# q8.extend(question8)\n",
    "# q9.extend(question9)\n",
    "q10.extend(question10)"
   ]
  },
  {
   "cell_type": "code",
   "execution_count": 31,
   "id": "8faa31a3",
   "metadata": {},
   "outputs": [],
   "source": [
    "# q1"
   ]
  },
  {
   "cell_type": "code",
   "execution_count": 8,
   "id": "05841f80",
   "metadata": {},
   "outputs": [
    {
     "data": {
      "text/plain": [
       "1    40\n",
       "0    10\n",
       "Name: Is there anyone in your life who can support you and be there for you?, dtype: int64"
      ]
     },
     "execution_count": 8,
     "metadata": {},
     "output_type": "execute_result"
    }
   ],
   "source": [
    "df['Is there anyone in your life who can support you and be there for you?'].value_counts()"
   ]
  },
  {
   "cell_type": "code",
   "execution_count": 36,
   "id": "ded78307",
   "metadata": {},
   "outputs": [],
   "source": [
    "a = a.round()"
   ]
  },
  {
   "cell_type": "code",
   "execution_count": 37,
   "id": "514bdb62",
   "metadata": {},
   "outputs": [],
   "source": [
    "a = a.tolist()"
   ]
  },
  {
   "cell_type": "code",
   "execution_count": 39,
   "id": "1fe88beb",
   "metadata": {},
   "outputs": [
    {
     "data": {
      "text/plain": [
       "5    17\n",
       "3    11\n",
       "4     8\n",
       "1     7\n",
       "2     7\n",
       "Name: How were you feeling lately?, dtype: int64"
      ]
     },
     "execution_count": 39,
     "metadata": {},
     "output_type": "execute_result"
    }
   ],
   "source": [
    "df['How were you feeling lately?'].value_counts()"
   ]
  },
  {
   "cell_type": "code",
   "execution_count": 40,
   "id": "7809c8f1",
   "metadata": {},
   "outputs": [],
   "source": [
    "df['How were you feeling lately?'] = a"
   ]
  },
  {
   "cell_type": "code",
   "execution_count": 41,
   "id": "7f997054",
   "metadata": {},
   "outputs": [
    {
     "data": {
      "text/plain": [
       "2.0    16\n",
       "4.0    12\n",
       "3.0    12\n",
       "5.0     7\n",
       "1.0     3\n",
       "Name: How were you feeling lately?, dtype: int64"
      ]
     },
     "execution_count": 41,
     "metadata": {},
     "output_type": "execute_result"
    }
   ],
   "source": [
    "df['How were you feeling lately?'].value_counts()"
   ]
  },
  {
   "cell_type": "code",
   "execution_count": 42,
   "id": "d4a62f00",
   "metadata": {},
   "outputs": [
    {
     "data": {
      "text/plain": [
       "50"
      ]
     },
     "execution_count": 42,
     "metadata": {},
     "output_type": "execute_result"
    }
   ],
   "source": [
    "df['How were you feeling lately?'].count()"
   ]
  },
  {
   "cell_type": "code",
   "execution_count": null,
   "id": "f984efb7",
   "metadata": {},
   "outputs": [],
   "source": []
  }
 ],
 "metadata": {
  "kernelspec": {
   "display_name": "Python 3 (ipykernel)",
   "language": "python",
   "name": "python3"
  },
  "language_info": {
   "codemirror_mode": {
    "name": "ipython",
    "version": 3
   },
   "file_extension": ".py",
   "mimetype": "text/x-python",
   "name": "python",
   "nbconvert_exporter": "python",
   "pygments_lexer": "ipython3",
   "version": "3.9.12"
  }
 },
 "nbformat": 4,
 "nbformat_minor": 5
}
